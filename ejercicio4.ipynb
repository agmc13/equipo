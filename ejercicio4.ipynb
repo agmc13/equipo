{
 "cells": [
  {
   "cell_type": "code",
   "execution_count": 80,
   "metadata": {},
   "outputs": [],
   "source": [
    "import pandas as pd\n",
    "import matplotlib.pyplot as plt\n",
    "from pymongo import MongoClient"
   ]
  },
  {
   "cell_type": "code",
   "execution_count": 123,
   "metadata": {},
   "outputs": [],
   "source": [
    "class DataFrame:\n",
    "    def conectar(self,host, port, username, password, db):\n",
    "        global conn\n",
    "        if username and password:\n",
    "            mongo_uri = 'mongodb://%s:%s@%s:%s/%s' % (username,password,host,port,db)\n",
    "            conn = MongoClient(mongo_uri)\n",
    "        else:\n",
    "            conn = MongoClient(host, port)\n",
    "        return conn[db]\n",
    "    \n",
    "    def read_mongo(self,no_id=True):\n",
    "        global df\n",
    "        db = conn['rios']\n",
    "        test = db.rios\n",
    "        df = pd.DataFrame(list(test.find()))\n",
    "\n",
    "        if no_id:\n",
    "            del df['_id']\n",
    "\n",
    "        return df\n",
    "    def grafica(self):\n",
    "        if True:\n",
    "            try:\n",
    "                df[df.Cuenca > 60.000].groupby(['Rio','Cuenca']).size().unstack(fill_value=0).plot(kind='bar',stacked=False)\n",
    "                plt.title('Donde realizar un trasvase')\n",
    "                plt.show()\n",
    "            except ValueError:\n",
    "                print('no se ha podido crear la grafica correctamente')"
   ]
  },
  {
   "cell_type": "code",
   "execution_count": 124,
   "metadata": {},
   "outputs": [
    {
     "data": {
      "text/plain": [
       "Database(MongoClient(host=['192.168.2.9:27017'], document_class=dict, tz_aware=False, connect=True), 'rios')"
      ]
     },
     "execution_count": 124,
     "metadata": {},
     "output_type": "execute_result"
    }
   ],
   "source": [
    "start=DataFrame()\n",
    "start.conectar('192.168.2.9','27017','alfonso','usuario','rios')"
   ]
  },
  {
   "cell_type": "code",
   "execution_count": 125,
   "metadata": {},
   "outputs": [
    {
     "data": {
      "text/html": [
       "<div>\n",
       "<style scoped>\n",
       "    .dataframe tbody tr th:only-of-type {\n",
       "        vertical-align: middle;\n",
       "    }\n",
       "\n",
       "    .dataframe tbody tr th {\n",
       "        vertical-align: top;\n",
       "    }\n",
       "\n",
       "    .dataframe thead th {\n",
       "        text-align: right;\n",
       "    }\n",
       "</style>\n",
       "<table border=\"1\" class=\"dataframe\">\n",
       "  <thead>\n",
       "    <tr style=\"text-align: right;\">\n",
       "      <th></th>\n",
       "      <th>Caudal</th>\n",
       "      <th>Cuenca</th>\n",
       "      <th>Recorrido</th>\n",
       "      <th>Rio</th>\n",
       "    </tr>\n",
       "  </thead>\n",
       "  <tbody>\n",
       "    <tr>\n",
       "      <th>0</th>\n",
       "      <td>340.0</td>\n",
       "      <td>12.486</td>\n",
       "      <td>310.000</td>\n",
       "      <td>Rio Miño</td>\n",
       "    </tr>\n",
       "    <tr>\n",
       "      <th>1</th>\n",
       "      <td>675.0</td>\n",
       "      <td>97.290</td>\n",
       "      <td>897.000</td>\n",
       "      <td>Rio Duero</td>\n",
       "    </tr>\n",
       "    <tr>\n",
       "      <th>2</th>\n",
       "      <td>444.0</td>\n",
       "      <td>80.600</td>\n",
       "      <td>1.007</td>\n",
       "      <td>Rio Tajo</td>\n",
       "    </tr>\n",
       "    <tr>\n",
       "      <th>3</th>\n",
       "      <td>78.0</td>\n",
       "      <td>67.633</td>\n",
       "      <td>744.000</td>\n",
       "      <td>Rio Guadiana</td>\n",
       "    </tr>\n",
       "    <tr>\n",
       "      <th>4</th>\n",
       "      <td>165.0</td>\n",
       "      <td>57.071</td>\n",
       "      <td>657.000</td>\n",
       "      <td>Rio Guadalquivir</td>\n",
       "    </tr>\n",
       "    <tr>\n",
       "      <th>5</th>\n",
       "      <td>17.0</td>\n",
       "      <td>3.010</td>\n",
       "      <td>208.000</td>\n",
       "      <td>Rio Ter</td>\n",
       "    </tr>\n",
       "    <tr>\n",
       "      <th>6</th>\n",
       "      <td>19.0</td>\n",
       "      <td>5.000</td>\n",
       "      <td>148.000</td>\n",
       "      <td>Rio Llobregat</td>\n",
       "    </tr>\n",
       "    <tr>\n",
       "      <th>7</th>\n",
       "      <td>600.0</td>\n",
       "      <td>86.100</td>\n",
       "      <td>930.000</td>\n",
       "      <td>Rio Ebro</td>\n",
       "    </tr>\n",
       "    <tr>\n",
       "      <th>8</th>\n",
       "      <td>15.0</td>\n",
       "      <td>4.028</td>\n",
       "      <td>156.000</td>\n",
       "      <td>Rio Mijares</td>\n",
       "    </tr>\n",
       "    <tr>\n",
       "      <th>9</th>\n",
       "      <td>14.0</td>\n",
       "      <td>6.394</td>\n",
       "      <td>280.000</td>\n",
       "      <td>Rio Turia</td>\n",
       "    </tr>\n",
       "    <tr>\n",
       "      <th>10</th>\n",
       "      <td>50.0</td>\n",
       "      <td>21.579</td>\n",
       "      <td>498.000</td>\n",
       "      <td>Rio Jucar</td>\n",
       "    </tr>\n",
       "    <tr>\n",
       "      <th>11</th>\n",
       "      <td>27.0</td>\n",
       "      <td>18.870</td>\n",
       "      <td>325.000</td>\n",
       "      <td>Rio Segura</td>\n",
       "    </tr>\n",
       "    <tr>\n",
       "      <th>12</th>\n",
       "      <td>8.0</td>\n",
       "      <td>3.147</td>\n",
       "      <td>154.000</td>\n",
       "      <td>Rio Guadalhorce</td>\n",
       "    </tr>\n",
       "    <tr>\n",
       "      <th>13</th>\n",
       "      <td>55.0</td>\n",
       "      <td>3.692</td>\n",
       "      <td>138.000</td>\n",
       "      <td>Rio Nalon</td>\n",
       "    </tr>\n",
       "  </tbody>\n",
       "</table>\n",
       "</div>"
      ],
      "text/plain": [
       "    Caudal  Cuenca  Recorrido               Rio\n",
       "0    340.0  12.486    310.000          Rio Miño\n",
       "1    675.0  97.290    897.000         Rio Duero\n",
       "2    444.0  80.600      1.007          Rio Tajo\n",
       "3     78.0  67.633    744.000      Rio Guadiana\n",
       "4    165.0  57.071    657.000  Rio Guadalquivir\n",
       "5     17.0   3.010    208.000           Rio Ter\n",
       "6     19.0   5.000    148.000     Rio Llobregat\n",
       "7    600.0  86.100    930.000          Rio Ebro\n",
       "8     15.0   4.028    156.000       Rio Mijares\n",
       "9     14.0   6.394    280.000         Rio Turia\n",
       "10    50.0  21.579    498.000         Rio Jucar\n",
       "11    27.0  18.870    325.000        Rio Segura\n",
       "12     8.0   3.147    154.000   Rio Guadalhorce\n",
       "13    55.0   3.692    138.000         Rio Nalon"
      ]
     },
     "execution_count": 125,
     "metadata": {},
     "output_type": "execute_result"
    }
   ],
   "source": [
    "start.read_mongo()"
   ]
  },
  {
   "cell_type": "code",
   "execution_count": 126,
   "metadata": {},
   "outputs": [
    {
     "data": {
      "image/png": "[encoded data removed]",
      "text/plain": [
       "<Figure size 432x288 with 1 Axes>"
      ]
     },
     "metadata": {},
     "output_type": "display_data"
    }
   ],
   "source": [
    "start.grafica() "
   ]
  },
  {
   "cell_type": "code",
   "execution_count": null,
   "metadata": {},
   "outputs": [],
   "source": []
  }
 ],
 "metadata": {
  "kernelspec": {
   "display_name": "Python 3",
   "language": "python",
   "name": "python3"
  },
  "language_info": {
   "codemirror_mode": {
    "name": "ipython",
    "version": 3
   },
   "file_extension": ".py",
   "mimetype": "text/x-python",
   "name": "python",
   "nbconvert_exporter": "python",
   "pygments_lexer": "ipython3",
   "version": "3.6.5"
  }
 },
 "nbformat": 4,
 "nbformat_minor": 2
}
