{
 "cells": [
  {
   "cell_type": "code",
   "execution_count": 37,
   "metadata": {},
   "outputs": [],
   "source": [
    "import pandas as pd\n",
    "import matplotlib.pyplot as plt\n",
    "import mysql.connector as sql"
   ]
  },
  {
   "cell_type": "code",
   "execution_count": 49,
   "metadata": {},
   "outputs": [],
   "source": [
    "class DataFrame: \n",
    "    def __init__(self,host,db,username,passwd):\n",
    "        self.host = host\n",
    "        self.db = db\n",
    "        self.username = username\n",
    "        self.passwd = passwd\n",
    "        global df\n",
    "        db_connection = sql.connect(host=host, database=db, user=username, password=passwd)\n",
    "        df = pd.read_sql('SELECT * FROM carrera', con=db_connection)\n",
    "        print (df)\n",
    "    def grafica(self):\n",
    "        if True:\n",
    "            try:\n",
    "                df[df.Empleo >= 95].groupby(['Titulo','Empleo']).size().unstack(fill_value=0).plot(kind='bar',stacked=True)\n",
    "                plt.title('Carreras con mas salida')\n",
    "                plt.show()\n",
    "            except ValueError:\n",
    "                print('no se ha podido crear la grafica correctamente')\n",
    "    "
   ]
  },
  {
   "cell_type": "code",
   "execution_count": 50,
   "metadata": {
    "scrolled": false
   },
   "outputs": [
    {
     "name": "stdout",
     "output_type": "stream",
     "text": [
      "                                         Titulo  Paro  Empleo\n",
      "0                           ing. en Electronica   2.0    98.0\n",
      "1                              lic. en Medicina   1.0    97.0\n",
      "2   ing. en Automatica y electronica industrial   0.0    96.0\n",
      "3                           ing. en Aeronautica   3.0    96.0\n",
      "4                         ing. Naval y oceanico   5.0    95.0\n",
      "5                           ing. en Informatica   4.0    94.0\n",
      "6                      ing. de Telecomunicacion   5.0    92.0\n",
      "7                               ing. Industrial   7.0    92.0\n",
      "8                      lic. en Maquinas Navales   6.0    91.0\n",
      "9      lic. en historia y ciencias de la muscia   8.0    91.0\n",
      "10                        Grado en Fisioterapia   6.0    90.0\n",
      "11     lic. en ciencias y tecnicas Estadisticas  10.0    89.0\n",
      "12                  ing. Tecnico en Informatica   9.0    89.0\n",
      "13              ing. de Organizacion Industrial  11.0    89.0\n",
      "14              ing. de Organizacion Industrial  11.0    89.0\n",
      "15                             lic. en Farmacia   6.0    88.0\n",
      "16   lic. en Ciencias Actualiares y financieras  10.0    87.0\n",
      "17                 lic. en Ciencias Ambientales  31.0    63.0\n",
      "18                  lic. en Filologia Hispanica  32.0    62.0\n",
      "19                             lic. en Biologia  31.0    62.0\n"
     ]
    }
   ],
   "source": [
    "start = DataFrame('192.168.2.9','formarse','alfonso','usuario')"
   ]
  },
  {
   "cell_type": "code",
   "execution_count": 51,
   "metadata": {},
   "outputs": [
    {
     "data": {
      "image/png": "[encoded data removed]",
      "text/plain": [
       "<Figure size 432x288 with 1 Axes>"
      ]
     },
     "metadata": {},
     "output_type": "display_data"
    }
   ],
   "source": [
    "start.grafica()"
   ]
  },
  {
   "cell_type": "code",
   "execution_count": null,
   "metadata": {},
   "outputs": [],
   "source": []
  }
 ],
 "metadata": {
  "kernelspec": {
   "display_name": "Python 3",
   "language": "python",
   "name": "python3"
  },
  "language_info": {
   "codemirror_mode": {
    "name": "ipython",
    "version": 3
   },
   "file_extension": ".py",
   "mimetype": "text/x-python",
   "name": "python",
   "nbconvert_exporter": "python",
   "pygments_lexer": "ipython3",
   "version": "3.6.5"
  }
 },
 "nbformat": 4,
 "nbformat_minor": 2
}
